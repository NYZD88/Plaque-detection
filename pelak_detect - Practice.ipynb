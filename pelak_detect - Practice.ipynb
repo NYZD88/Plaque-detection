{
 "cells": [
  {
   "cell_type": "code",
   "execution_count": 41,
   "id": "26980fc1",
   "metadata": {},
   "outputs": [],
   "source": [
    "import cv2\n",
    "import os\n",
    "import numpy as np"
   ]
  },
  {
   "cell_type": "code",
   "execution_count": 42,
   "id": "68ecc4f7",
   "metadata": {},
   "outputs": [],
   "source": [
    "im=cv2.imread('D:/AIO.learn/10-ML-Projects/pelak_detect/pelak/1/1 (1).jpg')"
   ]
  },
  {
   "cell_type": "code",
   "execution_count": 43,
   "id": "0528db79",
   "metadata": {},
   "outputs": [],
   "source": [
    "im2=cv2.resize(im,(8,32))"
   ]
  },
  {
   "cell_type": "code",
   "execution_count": 44,
   "id": "75a8592d",
   "metadata": {},
   "outputs": [],
   "source": [
    "im3=cv2.cvtColor(im2,cv2.COLOR_BGR2GRAY)"
   ]
  },
  {
   "cell_type": "code",
   "execution_count": 45,
   "id": "ecdae373",
   "metadata": {},
   "outputs": [],
   "source": [
    "im4=im3.flatten()"
   ]
  },
  {
   "cell_type": "code",
   "execution_count": 46,
   "id": "f252702e",
   "metadata": {},
   "outputs": [
    {
     "data": {
      "text/plain": [
       "(256,)"
      ]
     },
     "execution_count": 46,
     "metadata": {},
     "output_type": "execute_result"
    }
   ],
   "source": [
    "im4.shape"
   ]
  },
  {
   "cell_type": "code",
   "execution_count": 47,
   "id": "165ba2c2",
   "metadata": {},
   "outputs": [
    {
     "name": "stdout",
     "output_type": "stream",
     "text": [
      "[[ 98  94  90 103 102  99  95  92]\n",
      " [210 205 194 191 184 183 181 179]\n",
      " [216 216 209 204 205 205 203 203]\n",
      " [210 206 208 204 202 201 199 199]\n",
      " [166 125 162 203 211 209 206 204]\n",
      " [115  30  80 178 213 209 204 202]\n",
      " [ 72   3  10 125 215 216 199 207]\n",
      " [ 46   1   1  62 187 221 203 214]\n",
      " [ 24   2  11  24 130 214 221 217]\n",
      " [  8   4  16   4  81 200 226 209]\n",
      " [ 44   4  11   3  39 170 228 219]\n",
      " [107  22   2   2  12 128 221 224]\n",
      " [184  75   7   2   3  83 199 223]\n",
      " [229 142  29   1   3  48 174 226]\n",
      " [234 196  66   6   5  24 149 230]\n",
      " [237 227 114  16   1  13 113 236]\n",
      " [236 250 179  44   2  11  57 219]\n",
      " [235 252 207  66   2   1  38 203]\n",
      " [237 248 231 105  12   2  23 181]\n",
      " [231 240 244 144  25   6   9 152]\n",
      " [236 247 245 166  34   3   5 132]\n",
      " [237 246 241 183  46   0   2 116]\n",
      " [236 244 248 209  67   3   1 100]\n",
      " [238 245 249 218  71   2   2  72]\n",
      " [239 241 248 227  89   1   6  58]\n",
      " [243 244 252 240 118   3   1  43]\n",
      " [237 241 246 244 143  10   1  39]\n",
      " [223 226 228 243 184  84  61  79]\n",
      " [239 241 240 250 244 227 212 209]\n",
      " [252 254 252 252 253 255 253 251]\n",
      " [252 254 253 252 254 253 253 254]\n",
      " [207 211 206 207 212 212 211 215]]\n"
     ]
    }
   ],
   "source": [
    "im5=im4.reshape(32,8)\n",
    "print(im5)"
   ]
  },
  {
   "cell_type": "code",
   "execution_count": 48,
   "id": "bd1b1901",
   "metadata": {},
   "outputs": [],
   "source": [
    "cv2.imshow('ax', im3)\n",
    "cv2.waitKey(0)\n",
    "cv2.destroyAllWindows()"
   ]
  },
  {
   "cell_type": "code",
   "execution_count": 49,
   "id": "d3c4fbfd",
   "metadata": {},
   "outputs": [],
   "source": [
    "files=os.listdir('D:/AIO.learn/10-ML-Projects/pelak_detect/pelak/1')"
   ]
  },
  {
   "cell_type": "code",
   "execution_count": 50,
   "id": "6199335c",
   "metadata": {},
   "outputs": [],
   "source": [
    "x=np.empty((0,256))\n",
    "y=np.array([])\n",
    "for filename in files:\n",
    "    im=cv2.imread('D:/AIO.learn/10-ML-Projects/pelak_detect/pelak/1/'+filename)\n",
    "    im2=cv2.resize(im,(8,32))\n",
    "    im3=cv2.cvtColor(im2,cv2.COLOR_BGR2GRAY)\n",
    "    im4=im3.flatten()\n",
    "    x=np.append(x,[im4],axis=0)\n",
    "    y=np.append(y,1)"
   ]
  },
  {
   "cell_type": "code",
   "execution_count": 51,
   "id": "3bb755ff",
   "metadata": {},
   "outputs": [],
   "source": [
    "files=os.listdir('D:/AIO.learn/10-ML-Projects/pelak_detect/pelak/2')\n",
    "for filename in files:\n",
    "    im=cv2.imread('D:/AIO.learn/10-ML-Projects/pelak_detect/pelak/2/'+filename)\n",
    "    im2=cv2.resize(im,(8,32))\n",
    "    im3=cv2.cvtColor(im2,cv2.COLOR_BGR2GRAY)\n",
    "    im4=im3.flatten()\n",
    "    x=np.append(x,[im4],axis=0)\n",
    "    y=np.append(y,2)"
   ]
  },
  {
   "cell_type": "code",
   "execution_count": 52,
   "id": "0a3526b7",
   "metadata": {},
   "outputs": [],
   "source": [
    "files=os.listdir('D:/AIO.learn/10-ML-Projects/pelak_detect/pelak/3')\n",
    "for filename in files:\n",
    "    im=cv2.imread('D:/AIO.learn/10-ML-Projects/pelak_detect/pelak/3/'+filename)\n",
    "    im2=cv2.resize(im,(8,32))\n",
    "    im3=cv2.cvtColor(im2,cv2.COLOR_BGR2GRAY)\n",
    "    im4=im3.flatten()\n",
    "    x=np.append(x,[im4],axis=0)\n",
    "    y=np.append(y,3)"
   ]
  },
  {
   "cell_type": "code",
   "execution_count": 56,
   "id": "7d7b73ec",
   "metadata": {},
   "outputs": [],
   "source": [
    "files=os.listdir('D:/AIO.learn/10-ML-Projects/pelak_detect/pelak/4')\n",
    "for filename in files:\n",
    "    im=cv2.imread('D:/AIO.learn/10-ML-Projects/pelak_detect/pelak/4/'+filename)\n",
    "    im2=cv2.resize(im,(8,32))\n",
    "    im3=cv2.cvtColor(im2,cv2.COLOR_BGR2GRAY)\n",
    "    im4=im3.flatten()\n",
    "    x=np.append(x,[im4],axis=0)\n",
    "    y=np.append(y,4)"
   ]
  },
  {
   "cell_type": "code",
   "execution_count": 67,
   "id": "adaeb0b5",
   "metadata": {},
   "outputs": [],
   "source": [
    "files=os.listdir('D:/AIO.learn/10-ML-Projects/pelak_detect/pelak/5')\n",
    "for filename in files:\n",
    "    im=cv2.imread('D:/AIO.learn/10-ML-Projects/pelak_detect/pelak/5/'+filename)\n",
    "    im2=cv2.resize(im,(8,32))\n",
    "    im3=cv2.cvtColor(im2,cv2.COLOR_BGR2GRAY)\n",
    "    im4=im3.flatten()\n",
    "    x=np.append(x,[im4],axis=0)\n",
    "    y=np.append(y,5)"
   ]
  },
  {
   "cell_type": "code",
   "execution_count": 77,
   "id": "b87a21d4",
   "metadata": {},
   "outputs": [],
   "source": [
    "files=os.listdir('D:/AIO.learn/10-ML-Projects/pelak_detect/pelak/6')\n",
    "for filename in files:\n",
    "    im=cv2.imread('D:/AIO.learn/10-ML-Projects/pelak_detect/pelak/6/'+filename)\n",
    "    im2=cv2.resize(im,(8,32))\n",
    "    im3=cv2.cvtColor(im2,cv2.COLOR_BGR2GRAY)\n",
    "    im4=im3.flatten()\n",
    "    x=np.append(x,[im4],axis=0)\n",
    "    y=np.append(y,6)"
   ]
  },
  {
   "cell_type": "code",
   "execution_count": 86,
   "id": "05898ae5",
   "metadata": {},
   "outputs": [],
   "source": [
    "files=os.listdir('D:/AIO.learn/10-ML-Projects/pelak_detect/pelak/7')\n",
    "for filename in files:\n",
    "    im=cv2.imread('D:/AIO.learn/10-ML-Projects/pelak_detect/pelak/7/'+filename)\n",
    "    im2=cv2.resize(im,(8,32))\n",
    "    im3=cv2.cvtColor(im2,cv2.COLOR_BGR2GRAY)\n",
    "    im4=im3.flatten()\n",
    "    x=np.append(x,[im4],axis=0)\n",
    "    y=np.append(y,7)"
   ]
  },
  {
   "cell_type": "code",
   "execution_count": 89,
   "id": "13b32a54",
   "metadata": {},
   "outputs": [],
   "source": [
    "files=os.listdir('D:/AIO.learn/10-ML-Projects/pelak_detect/pelak/8')\n",
    "for filename in files:\n",
    "    im=cv2.imread('D:/AIO.learn/10-ML-Projects/pelak_detect/pelak/8/'+filename)\n",
    "    im2=cv2.resize(im,(8,32))\n",
    "    im3=cv2.cvtColor(im2,cv2.COLOR_BGR2GRAY)\n",
    "    im4=im3.flatten()\n",
    "    x=np.append(x,[im4],axis=0)\n",
    "    y=np.append(y,8)"
   ]
  },
  {
   "cell_type": "code",
   "execution_count": 92,
   "id": "8dedc389",
   "metadata": {},
   "outputs": [],
   "source": [
    "files=os.listdir('D:/AIO.learn/10-ML-Projects/pelak_detect/pelak/9')\n",
    "for filename in files:\n",
    "    im=cv2.imread('D:/AIO.learn/10-ML-Projects/pelak_detect/pelak/9/'+filename)\n",
    "    im2=cv2.resize(im,(8,32))\n",
    "    im3=cv2.cvtColor(im2,cv2.COLOR_BGR2GRAY)\n",
    "    im4=im3.flatten()\n",
    "    x=np.append(x,[im4],axis=0)\n",
    "    y=np.append(y,9)"
   ]
  },
  {
   "cell_type": "code",
   "execution_count": 93,
   "id": "2fedb865",
   "metadata": {},
   "outputs": [
    {
     "data": {
      "text/plain": [
       "(3429, 256)"
      ]
     },
     "execution_count": 93,
     "metadata": {},
     "output_type": "execute_result"
    }
   ],
   "source": [
    "x.shape"
   ]
  },
  {
   "cell_type": "code",
   "execution_count": 94,
   "id": "e014afca",
   "metadata": {},
   "outputs": [
    {
     "data": {
      "text/plain": [
       "9.0"
      ]
     },
     "execution_count": 94,
     "metadata": {},
     "output_type": "execute_result"
    }
   ],
   "source": [
    "y[3400]"
   ]
  },
  {
   "cell_type": "code",
   "execution_count": 95,
   "id": "f3dc6ca3",
   "metadata": {},
   "outputs": [],
   "source": [
    "from sklearn import linear_model\n",
    "from sklearn.model_selection import train_test_split"
   ]
  },
  {
   "cell_type": "code",
   "execution_count": 96,
   "id": "b96b0acc",
   "metadata": {},
   "outputs": [],
   "source": [
    "X_train, X_test, y_train, y_test = train_test_split(x, y, test_size=0.2)"
   ]
  },
  {
   "cell_type": "code",
   "execution_count": 97,
   "id": "62f3971e",
   "metadata": {},
   "outputs": [],
   "source": [
    "model=linear_model.LogisticRegression()"
   ]
  },
  {
   "cell_type": "code",
   "execution_count": 98,
   "id": "ed3e7f73",
   "metadata": {},
   "outputs": [
    {
     "name": "stderr",
     "output_type": "stream",
     "text": [
      "C:\\Users\\User\\AppData\\Roaming\\Python\\Python38\\site-packages\\sklearn\\linear_model\\_logistic.py:460: ConvergenceWarning: lbfgs failed to converge (status=1):\n",
      "STOP: TOTAL NO. of ITERATIONS REACHED LIMIT.\n",
      "\n",
      "Increase the number of iterations (max_iter) or scale the data as shown in:\n",
      "    https://scikit-learn.org/stable/modules/preprocessing.html\n",
      "Please also refer to the documentation for alternative solver options:\n",
      "    https://scikit-learn.org/stable/modules/linear_model.html#logistic-regression\n",
      "  n_iter_i = _check_optimize_result(\n"
     ]
    },
    {
     "data": {
      "text/html": [
       "<style>#sk-container-id-5 {color: black;}#sk-container-id-5 pre{padding: 0;}#sk-container-id-5 div.sk-toggleable {background-color: white;}#sk-container-id-5 label.sk-toggleable__label {cursor: pointer;display: block;width: 100%;margin-bottom: 0;padding: 0.3em;box-sizing: border-box;text-align: center;}#sk-container-id-5 label.sk-toggleable__label-arrow:before {content: \"▸\";float: left;margin-right: 0.25em;color: #696969;}#sk-container-id-5 label.sk-toggleable__label-arrow:hover:before {color: black;}#sk-container-id-5 div.sk-estimator:hover label.sk-toggleable__label-arrow:before {color: black;}#sk-container-id-5 div.sk-toggleable__content {max-height: 0;max-width: 0;overflow: hidden;text-align: left;background-color: #f0f8ff;}#sk-container-id-5 div.sk-toggleable__content pre {margin: 0.2em;color: black;border-radius: 0.25em;background-color: #f0f8ff;}#sk-container-id-5 input.sk-toggleable__control:checked~div.sk-toggleable__content {max-height: 200px;max-width: 100%;overflow: auto;}#sk-container-id-5 input.sk-toggleable__control:checked~label.sk-toggleable__label-arrow:before {content: \"▾\";}#sk-container-id-5 div.sk-estimator input.sk-toggleable__control:checked~label.sk-toggleable__label {background-color: #d4ebff;}#sk-container-id-5 div.sk-label input.sk-toggleable__control:checked~label.sk-toggleable__label {background-color: #d4ebff;}#sk-container-id-5 input.sk-hidden--visually {border: 0;clip: rect(1px 1px 1px 1px);clip: rect(1px, 1px, 1px, 1px);height: 1px;margin: -1px;overflow: hidden;padding: 0;position: absolute;width: 1px;}#sk-container-id-5 div.sk-estimator {font-family: monospace;background-color: #f0f8ff;border: 1px dotted black;border-radius: 0.25em;box-sizing: border-box;margin-bottom: 0.5em;}#sk-container-id-5 div.sk-estimator:hover {background-color: #d4ebff;}#sk-container-id-5 div.sk-parallel-item::after {content: \"\";width: 100%;border-bottom: 1px solid gray;flex-grow: 1;}#sk-container-id-5 div.sk-label:hover label.sk-toggleable__label {background-color: #d4ebff;}#sk-container-id-5 div.sk-serial::before {content: \"\";position: absolute;border-left: 1px solid gray;box-sizing: border-box;top: 0;bottom: 0;left: 50%;z-index: 0;}#sk-container-id-5 div.sk-serial {display: flex;flex-direction: column;align-items: center;background-color: white;padding-right: 0.2em;padding-left: 0.2em;position: relative;}#sk-container-id-5 div.sk-item {position: relative;z-index: 1;}#sk-container-id-5 div.sk-parallel {display: flex;align-items: stretch;justify-content: center;background-color: white;position: relative;}#sk-container-id-5 div.sk-item::before, #sk-container-id-5 div.sk-parallel-item::before {content: \"\";position: absolute;border-left: 1px solid gray;box-sizing: border-box;top: 0;bottom: 0;left: 50%;z-index: -1;}#sk-container-id-5 div.sk-parallel-item {display: flex;flex-direction: column;z-index: 1;position: relative;background-color: white;}#sk-container-id-5 div.sk-parallel-item:first-child::after {align-self: flex-end;width: 50%;}#sk-container-id-5 div.sk-parallel-item:last-child::after {align-self: flex-start;width: 50%;}#sk-container-id-5 div.sk-parallel-item:only-child::after {width: 0;}#sk-container-id-5 div.sk-dashed-wrapped {border: 1px dashed gray;margin: 0 0.4em 0.5em 0.4em;box-sizing: border-box;padding-bottom: 0.4em;background-color: white;}#sk-container-id-5 div.sk-label label {font-family: monospace;font-weight: bold;display: inline-block;line-height: 1.2em;}#sk-container-id-5 div.sk-label-container {text-align: center;}#sk-container-id-5 div.sk-container {/* jupyter's `normalize.less` sets `[hidden] { display: none; }` but bootstrap.min.css set `[hidden] { display: none !important; }` so we also need the `!important` here to be able to override the default hidden behavior on the sphinx rendered scikit-learn.org. See: https://github.com/scikit-learn/scikit-learn/issues/21755 */display: inline-block !important;position: relative;}#sk-container-id-5 div.sk-text-repr-fallback {display: none;}</style><div id=\"sk-container-id-5\" class=\"sk-top-container\"><div class=\"sk-text-repr-fallback\"><pre>LogisticRegression()</pre><b>In a Jupyter environment, please rerun this cell to show the HTML representation or trust the notebook. <br />On GitHub, the HTML representation is unable to render, please try loading this page with nbviewer.org.</b></div><div class=\"sk-container\" hidden><div class=\"sk-item\"><div class=\"sk-estimator sk-toggleable\"><input class=\"sk-toggleable__control sk-hidden--visually\" id=\"sk-estimator-id-5\" type=\"checkbox\" checked><label for=\"sk-estimator-id-5\" class=\"sk-toggleable__label sk-toggleable__label-arrow\">LogisticRegression</label><div class=\"sk-toggleable__content\"><pre>LogisticRegression()</pre></div></div></div></div></div>"
      ],
      "text/plain": [
       "LogisticRegression()"
      ]
     },
     "execution_count": 98,
     "metadata": {},
     "output_type": "execute_result"
    }
   ],
   "source": [
    "model.fit(X_train,y_train)"
   ]
  },
  {
   "cell_type": "code",
   "execution_count": 99,
   "id": "828ebd79",
   "metadata": {},
   "outputs": [],
   "source": [
    "out=model.predict(X_test)"
   ]
  },
  {
   "cell_type": "code",
   "execution_count": 100,
   "id": "8cac9f00",
   "metadata": {},
   "outputs": [
    {
     "data": {
      "text/plain": [
       "array([7., 4., 4., 6., 4., 5., 8., 5., 9., 8., 8., 5., 4., 4., 7., 9., 4.,\n",
       "       4., 8., 3., 3., 3., 4., 4., 7., 4., 4., 8., 4., 5., 9., 1., 7., 9.,\n",
       "       3., 5., 9., 2., 4., 5., 4., 9., 1., 7., 5., 5., 2., 1., 1., 5., 8.,\n",
       "       9., 7., 1., 9., 2., 7., 4., 8., 7., 7., 5., 1., 2., 4., 9., 2., 4.,\n",
       "       3., 2., 1., 4., 4., 2., 4., 7., 2., 3., 5., 1., 2., 1., 5., 3., 8.,\n",
       "       1., 3., 2., 1., 7., 9., 5., 9., 2., 5., 7., 5., 7., 5., 7., 4., 4.,\n",
       "       6., 9., 8., 7., 4., 7., 3., 3., 4., 6., 9., 1., 4., 2., 8., 4., 8.,\n",
       "       9., 2., 9., 4., 1., 4., 8., 9., 1., 6., 4., 7., 8., 3., 4., 6., 6.,\n",
       "       5., 4., 9., 5., 2., 1., 4., 1., 5., 8., 2., 2., 9., 4., 9., 3., 1.,\n",
       "       3., 4., 4., 2., 7., 7., 7., 8., 8., 1., 1., 5., 5., 8., 8., 6., 6.,\n",
       "       5., 6., 5., 3., 2., 4., 1., 8., 8., 6., 1., 2., 8., 4., 9., 4., 5.,\n",
       "       5., 4., 1., 5., 8., 4., 1., 4., 6., 4., 8., 4., 8., 9., 5., 3., 4.,\n",
       "       3., 2., 2., 8., 4., 9., 4., 4., 8., 4., 9., 5., 1., 4., 9., 1., 5.,\n",
       "       7., 4., 1., 2., 3., 1., 4., 4., 7., 2., 9., 2., 6., 7., 9., 2., 8.,\n",
       "       2., 5., 9., 2., 5., 6., 3., 5., 4., 4., 9., 1., 4., 9., 4., 9., 3.,\n",
       "       6., 5., 7., 2., 3., 7., 1., 7., 9., 4., 8., 3., 3., 6., 8., 1., 2.,\n",
       "       1., 4., 6., 4., 7., 2., 1., 6., 2., 7., 4., 3., 8., 2., 5., 9., 4.,\n",
       "       2., 3., 4., 1., 1., 7., 3., 6., 1., 9., 4., 1., 3., 9., 1., 4., 1.,\n",
       "       9., 9., 9., 2., 6., 5., 1., 7., 6., 9., 7., 4., 1., 3., 8., 8., 4.,\n",
       "       9., 5., 5., 1., 9., 4., 4., 6., 4., 5., 4., 1., 7., 5., 6., 4., 3.,\n",
       "       8., 4., 2., 8., 2., 5., 3., 5., 6., 2., 6., 2., 3., 4., 9., 4., 5.,\n",
       "       2., 1., 2., 1., 9., 7., 2., 7., 6., 1., 7., 4., 6., 6., 4., 3., 6.,\n",
       "       4., 8., 6., 1., 7., 5., 2., 4., 3., 4., 4., 9., 8., 4., 2., 4., 4.,\n",
       "       5., 3., 9., 2., 4., 7., 2., 3., 1., 3., 3., 2., 8., 4., 4., 2., 2.,\n",
       "       3., 4., 9., 3., 4., 3., 2., 2., 1., 1., 8., 2., 9., 5., 5., 4., 6.,\n",
       "       9., 8., 7., 4., 7., 5., 9., 4., 9., 3., 7., 4., 7., 3., 6., 1., 1.,\n",
       "       5., 4., 4., 7., 7., 1., 6., 7., 8., 1., 2., 9., 7., 2., 2., 7., 1.,\n",
       "       9., 5., 9., 1., 8., 4., 3., 5., 6., 3., 2., 5., 4., 6., 2., 6., 6.,\n",
       "       6., 5., 2., 4., 1., 4., 5., 5., 3., 9., 4., 4., 3., 4., 1., 3., 9.,\n",
       "       6., 4., 4., 2., 3., 9., 5., 8., 3., 4., 5., 5., 7., 4., 3., 3., 8.,\n",
       "       7., 4., 4., 8., 4., 1., 2., 3., 2., 8., 5., 8., 4., 6., 3., 6., 4.,\n",
       "       1., 6., 4., 4., 4., 4., 4., 4., 4., 2., 4., 1., 4., 1., 4., 5., 6.,\n",
       "       4., 2., 5., 5., 1., 5., 3., 8., 6., 4., 2., 5., 5., 5., 7., 7., 1.,\n",
       "       6., 5., 4., 4., 6., 2., 4., 6., 6., 5., 8., 2., 6., 7., 4., 4., 5.,\n",
       "       4., 1., 5., 7., 4., 3., 9., 7., 5., 3., 4., 5., 1., 3., 3., 5., 1.,\n",
       "       8., 8., 9., 2., 8., 1., 7., 7., 6., 3., 8., 7., 2., 2., 4., 4., 6.,\n",
       "       1., 4., 4., 1., 9., 5., 7., 2., 6., 2., 5., 6., 3., 1., 2., 5., 4.,\n",
       "       6., 7., 2., 5., 5., 9., 7., 9., 6., 2., 4., 3., 7., 8., 4., 9., 6.,\n",
       "       8., 8., 4., 1., 2., 1., 8., 2., 5., 8., 6., 4., 9., 4., 1., 2., 7.,\n",
       "       4., 8., 9., 6., 4., 3., 4., 5., 5., 8., 2., 6., 5., 1., 9., 2., 4.,\n",
       "       6., 4., 9., 9., 4., 3.])"
      ]
     },
     "execution_count": 100,
     "metadata": {},
     "output_type": "execute_result"
    }
   ],
   "source": [
    "out"
   ]
  },
  {
   "cell_type": "code",
   "execution_count": 101,
   "id": "35b459da",
   "metadata": {},
   "outputs": [
    {
     "data": {
      "text/plain": [
       "array([7., 4., 4., 6., 4., 5., 8., 5., 9., 8., 8., 5., 4., 4., 8., 9., 4.,\n",
       "       4., 8., 3., 3., 3., 4., 3., 7., 4., 4., 8., 4., 5., 9., 1., 8., 9.,\n",
       "       3., 5., 9., 2., 4., 2., 4., 9., 1., 7., 5., 7., 2., 1., 1., 5., 8.,\n",
       "       9., 7., 1., 9., 2., 7., 4., 8., 7., 7., 2., 1., 2., 4., 9., 2., 4.,\n",
       "       3., 2., 1., 4., 2., 2., 4., 7., 2., 6., 5., 1., 2., 1., 5., 3., 8.,\n",
       "       1., 3., 2., 3., 7., 9., 1., 9., 2., 5., 7., 5., 7., 5., 7., 4., 4.,\n",
       "       6., 9., 8., 7., 4., 7., 3., 3., 4., 6., 9., 1., 6., 2., 8., 4., 8.,\n",
       "       9., 2., 9., 6., 1., 4., 8., 9., 1., 6., 4., 7., 8., 3., 4., 6., 6.,\n",
       "       5., 4., 9., 5., 2., 1., 4., 1., 5., 8., 2., 2., 9., 4., 9., 3., 1.,\n",
       "       3., 4., 4., 2., 7., 6., 7., 8., 8., 7., 1., 5., 5., 8., 8., 6., 6.,\n",
       "       5., 6., 5., 1., 2., 4., 1., 8., 8., 6., 9., 2., 8., 4., 9., 4., 5.,\n",
       "       5., 4., 1., 5., 8., 4., 1., 4., 6., 4., 8., 4., 5., 9., 5., 8., 4.,\n",
       "       3., 2., 2., 8., 4., 9., 4., 4., 8., 4., 9., 5., 1., 4., 9., 1., 5.,\n",
       "       7., 4., 1., 2., 3., 1., 4., 4., 7., 2., 9., 8., 6., 7., 9., 2., 8.,\n",
       "       2., 5., 9., 2., 5., 6., 9., 5., 4., 4., 9., 9., 4., 9., 6., 9., 3.,\n",
       "       6., 2., 7., 2., 3., 7., 1., 7., 3., 4., 8., 3., 3., 6., 8., 1., 2.,\n",
       "       1., 4., 6., 4., 7., 2., 1., 6., 2., 7., 4., 3., 8., 2., 8., 9., 4.,\n",
       "       2., 3., 4., 1., 1., 2., 3., 6., 1., 9., 4., 1., 3., 9., 1., 4., 1.,\n",
       "       9., 9., 3., 2., 6., 5., 8., 7., 6., 9., 7., 4., 1., 3., 8., 8., 4.,\n",
       "       9., 5., 5., 1., 9., 4., 4., 4., 4., 5., 4., 1., 7., 5., 6., 4., 3.,\n",
       "       8., 4., 2., 8., 2., 5., 8., 5., 6., 2., 6., 2., 3., 4., 9., 4., 5.,\n",
       "       2., 1., 2., 1., 9., 7., 2., 7., 6., 1., 7., 4., 6., 6., 4., 3., 6.,\n",
       "       4., 8., 6., 1., 7., 5., 2., 4., 3., 4., 4., 9., 8., 4., 2., 4., 4.,\n",
       "       5., 1., 9., 2., 4., 7., 2., 3., 9., 3., 3., 2., 1., 4., 4., 2., 6.,\n",
       "       3., 4., 9., 3., 4., 3., 2., 2., 1., 8., 8., 2., 9., 5., 5., 4., 6.,\n",
       "       9., 8., 9., 4., 7., 5., 9., 4., 9., 3., 7., 4., 7., 3., 6., 1., 1.,\n",
       "       5., 4., 4., 7., 7., 1., 4., 7., 8., 1., 6., 9., 7., 2., 2., 7., 1.,\n",
       "       9., 5., 9., 1., 8., 4., 3., 5., 6., 3., 2., 5., 4., 6., 2., 6., 6.,\n",
       "       6., 5., 2., 4., 1., 4., 5., 5., 3., 9., 4., 4., 3., 4., 1., 3., 9.,\n",
       "       6., 4., 4., 2., 3., 9., 5., 8., 3., 4., 5., 5., 7., 4., 3., 3., 8.,\n",
       "       7., 4., 4., 8., 4., 1., 2., 3., 2., 8., 5., 8., 4., 6., 3., 6., 4.,\n",
       "       6., 6., 4., 4., 4., 4., 4., 6., 4., 2., 4., 1., 6., 1., 4., 5., 6.,\n",
       "       4., 2., 5., 8., 1., 5., 3., 8., 6., 4., 2., 5., 7., 8., 7., 7., 1.,\n",
       "       6., 5., 4., 4., 6., 2., 4., 6., 6., 2., 8., 7., 6., 7., 4., 4., 5.,\n",
       "       4., 1., 5., 7., 4., 2., 9., 7., 5., 3., 4., 5., 1., 3., 3., 5., 1.,\n",
       "       8., 8., 9., 2., 8., 1., 7., 7., 6., 3., 8., 8., 3., 2., 4., 9., 6.,\n",
       "       1., 4., 4., 1., 9., 5., 7., 2., 6., 2., 2., 6., 3., 1., 2., 5., 4.,\n",
       "       6., 7., 2., 5., 5., 9., 7., 9., 6., 2., 4., 3., 7., 8., 4., 9., 6.,\n",
       "       8., 8., 4., 1., 7., 1., 8., 2., 5., 8., 6., 4., 9., 4., 1., 2., 7.,\n",
       "       4., 8., 9., 6., 4., 3., 4., 1., 5., 8., 7., 6., 5., 1., 9., 2., 4.,\n",
       "       6., 4., 9., 9., 4., 3.])"
      ]
     },
     "execution_count": 101,
     "metadata": {},
     "output_type": "execute_result"
    }
   ],
   "source": [
    "y_test"
   ]
  },
  {
   "cell_type": "code",
   "execution_count": 102,
   "id": "5466925b",
   "metadata": {},
   "outputs": [],
   "source": [
    "x1=np.empty((0,256))\n",
    "im=cv2.imread('D:/AIO.learn/10-ML-Projects/pelak_detect/pelak/1/1 (154).jpg')\n",
    "im2=cv2.resize(im,(8,32))\n",
    "im3=cv2.cvtColor(im2,cv2.COLOR_BGR2GRAY)\n",
    "im4=im3.flatten()\n",
    "x1=np.append(x1,[im4],axis=0)"
   ]
  },
  {
   "cell_type": "code",
   "execution_count": 103,
   "id": "afbe6663",
   "metadata": {},
   "outputs": [],
   "source": [
    "natije=model.predict(x1)"
   ]
  },
  {
   "cell_type": "code",
   "execution_count": 104,
   "id": "1beaefe4",
   "metadata": {},
   "outputs": [
    {
     "data": {
      "text/plain": [
       "array([1.])"
      ]
     },
     "execution_count": 104,
     "metadata": {},
     "output_type": "execute_result"
    }
   ],
   "source": [
    "natije"
   ]
  }
 ],
 "metadata": {
  "kernelspec": {
   "display_name": "Python 3",
   "language": "python",
   "name": "python3"
  },
  "language_info": {
   "codemirror_mode": {
    "name": "ipython",
    "version": 3
   },
   "file_extension": ".py",
   "mimetype": "text/x-python",
   "name": "python",
   "nbconvert_exporter": "python",
   "pygments_lexer": "ipython3",
   "version": "3.8.8"
  }
 },
 "nbformat": 4,
 "nbformat_minor": 5
}
